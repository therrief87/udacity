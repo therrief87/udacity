{
 "cells": [
  {
   "cell_type": "code",
   "execution_count": 1,
   "id": "5fe951b7",
   "metadata": {},
   "outputs": [],
   "source": [
    "# package imports\n",
    "import torch\n",
    "import huggingface\n",
    "from transformers import (AutoModelForSequenceClassification, AutoTokenizer, GPT2Model, GPT2Tokenizer, AutoModelForCausalLM,GPT2LMHeadModel, GPT2Config)\n",
    "from datasets import load_dataset"
   ]
  },
  {
   "cell_type": "code",
   "execution_count": 2,
   "id": "0be4d5ad",
   "metadata": {},
   "outputs": [],
   "source": [
    "#import validation dataset for evaluation. \n",
    "dataset = load_dataset('rotten_tomatoes',split='validation') #just for evaluating"
   ]
  },
  {
   "cell_type": "code",
   "execution_count": 3,
   "id": "fe06abb2",
   "metadata": {},
   "outputs": [
    {
     "data": {
      "text/plain": [
       "Dataset({\n",
       "    features: ['text', 'label'],\n",
       "    num_rows: 1066\n",
       "})"
      ]
     },
     "execution_count": 3,
     "metadata": {},
     "output_type": "execute_result"
    }
   ],
   "source": [
    "#shape of dataset\n",
    "dataset"
   ]
  },
  {
   "cell_type": "code",
   "execution_count": 4,
   "id": "f0bc5669",
   "metadata": {},
   "outputs": [
    {
     "name": "stdout",
     "output_type": "stream",
     "text": [
      "C:\\Users\\felix\\Downloads\n"
     ]
    }
   ],
   "source": [
    "import os\n",
    "\n",
    "# get the current working directory\n",
    "current_working_directory = os.getcwd()\n",
    "\n",
    "# print output to the console\n",
    "print(current_working_directory)"
   ]
  },
  {
   "cell_type": "code",
   "execution_count": 5,
   "id": "3d9732a5",
   "metadata": {},
   "outputs": [
    {
     "name": "stderr",
     "output_type": "stream",
     "text": [
      "Some weights of GPT2ForSequenceClassification were not initialized from the model checkpoint at gpt2 and are newly initialized: ['score.weight']\n",
      "You should probably TRAIN this model on a down-stream task to be able to use it for predictions and inference.\n"
     ]
    }
   ],
   "source": [
    "#instantiate model\n",
    "\n",
    "#create tokenizer with padding\n",
    "tokenizer = GPT2Tokenizer.from_pretrained(\"gpt2\")\n",
    "pad_token = \"<PAD>\"\n",
    "tokenizer.pad_token = pad_token\n",
    "#tokenizer.set_padding(tokenizer.pad_token, pad_to_multiple_of=8)\n",
    "config = GPT2Config.from_pretrained(\"gpt2\", pad_token_id=tokenizer.pad_token_id)\n",
    "model = AutoModelForSequenceClassification.from_pretrained(\"gpt2\",config=config)\n",
    "#config = GPT2Config.from_pretrained(\"gpt2\", pad_token_id=tokenizer.pad_token_id)\n",
    "\n",
    "# Instantiate the model with the updated configuration\n",
    "#model = GPT2ForSequenceClassification.from_pretrained(\"gpt2\", config=config)"
   ]
  },
  {
   "cell_type": "code",
   "execution_count": 6,
   "id": "a119ed27",
   "metadata": {},
   "outputs": [],
   "source": [
    "#tokenize function\n",
    "def tokenize_function(examples):\n",
    "    return tokenizer(examples[\"text\"], padding=\"max_length\", truncation=True)"
   ]
  },
  {
   "cell_type": "code",
   "execution_count": 7,
   "id": "b2038b2b",
   "metadata": {},
   "outputs": [],
   "source": [
    "#create a tokenized dataset for evaluation\n",
    "tokenized_datasets = dataset.map(tokenize_function, batched=True)"
   ]
  },
  {
   "cell_type": "code",
   "execution_count": 8,
   "id": "97896cfa",
   "metadata": {},
   "outputs": [],
   "source": [
    "#creating input for model\n",
    "inputs = tokenizer.encode_plus(\n",
    "    tokenized_datasets['text'],\n",
    "    add_special_tokens=True,\n",
    "    max_length=128,  # Maximum sequence length\n",
    "    padding=\"max_length\",\n",
    "    truncation=True,\n",
    "    return_tensors=\"pt\"  # Return PyTorch tensors\n",
    ")"
   ]
  },
  {
   "cell_type": "code",
   "execution_count": 9,
   "id": "b5f9edf5",
   "metadata": {},
   "outputs": [
    {
     "name": "stdout",
     "output_type": "stream",
     "text": [
      "Sentiment: Positive (98.93%)\n"
     ]
    }
   ],
   "source": [
    "# Make prediction\n",
    "with torch.no_grad():\n",
    "    outputs = model(**inputs).logits\n",
    "    probabilities = torch.nn.functional.softmax(outputs, dim=1)\n",
    "    predicted_class = torch.argmax(probabilities)\n",
    "\n",
    "# Display sentiment result\n",
    "if predicted_class == 1:\n",
    "    print(f\"Sentiment: Positive ({probabilities[0][1] * 100:.2f}%)\")\n",
    "else:\n",
    "    print(f\"Sentiment: Negative ({probabilities[0][0] * 100:.2f}%)\")"
   ]
  },
  {
   "cell_type": "code",
   "execution_count": 10,
   "id": "ea862d72",
   "metadata": {},
   "outputs": [],
   "source": [
    "#dataset labels\n",
    "labels = dataset[\"label\"]"
   ]
  },
  {
   "cell_type": "code",
   "execution_count": 11,
   "id": "30fdf462",
   "metadata": {},
   "outputs": [],
   "source": [
    "#load full dataset for testing\n",
    "full_dataset = load_dataset('rotten_tomatoes')"
   ]
  },
  {
   "cell_type": "code",
   "execution_count": 12,
   "id": "0d7c3822",
   "metadata": {},
   "outputs": [],
   "source": [
    "# Create a DataLoader to efficiently process the data\n",
    "data_loader = torch.utils.data.DataLoader(list(zip(inputs[\"input_ids\"],inputs[\"attention_mask\"], labels)),\n",
    "batch_size=16, shuffle=False)"
   ]
  },
  {
   "cell_type": "code",
   "execution_count": null,
   "id": "297e89db",
   "metadata": {},
   "outputs": [],
   "source": [
    "#evaluate model performance\n",
    "from sklearn.metrics import accuracy_score\n",
    "\n",
    "tokenized_dataset = full_dataset.map(lambda examples: tokenizer(examples[\"text\"], padding=True, truncation=True))\n",
    "                                     #, batched=True)\n",
    "\n",
    "# Prepare the data for evaluation\n",
    "eval_dataset = tokenized_dataset[\"test\"].remove_columns([\"text\"]).rename_column(\"label\", \"labels\")\n",
    "eval_dataset.set_format(\"torch\", columns=[\"input_ids\", \"attention_mask\", \"labels\"])\n",
    "\n",
    "device = torch.device(\"cuda\" if torch.cuda.is_available() else \"cpu\")\n",
    "model = model.to(device)\n",
    "\n",
    "model.eval()\n",
    "predictions = []\n",
    "for batch in torch.utils.data.DataLoader(eval_dataset):\n",
    "    with torch.no_grad():\n",
    "        inputs = {k: v.to(device) for k, v in batch.items()}\n",
    "        outputs = model(**inputs)\n",
    "        logits = outputs.logits\n",
    "        predicted_labels = torch.argmax(logits, dim=1)\n",
    "        predictions.extend(predicted_labels.cpu().numpy())\n",
    "\n",
    "true_labels = eval_dataset[\"labels\"].numpy()\n",
    "accuracy = accuracy_score(true_labels, predictions)\n",
    "print(\"The pretrained model accuracy is\", round(accuracy*100,2),\"%\")"
   ]
  },
  {
   "cell_type": "code",
   "execution_count": 13,
   "id": "6dff021e",
   "metadata": {},
   "outputs": [],
   "source": [
    "from peft import LoraConfig\n",
    "# Create a PEFT Config for LoRA\n",
    "from peft import LoraConfig, TaskType\n",
    "config = LoraConfig(\n",
    "r=8, # Rank\n",
    "lora_alpha=32,\n",
    "target_modules=['c_attn', 'c_proj'],\n",
    "lora_dropout=0.1,\n",
    "bias=\"none\",\n",
    "task_type=TaskType.SEQ_CLS\n",
    ")"
   ]
  },
  {
   "cell_type": "code",
   "execution_count": 14,
   "id": "99971e8f",
   "metadata": {},
   "outputs": [
    {
     "name": "stderr",
     "output_type": "stream",
     "text": [
      "C:\\Users\\felix\\anaconda3\\Lib\\site-packages\\peft\\tuners\\lora\\layer.py:711: UserWarning: fan_in_fan_out is set to False but the target module is `Conv1D`. Setting fan_in_fan_out to True.\n",
      "  warnings.warn(\n"
     ]
    }
   ],
   "source": [
    "from peft import get_peft_model\n",
    "lora_model = get_peft_model(model, config)"
   ]
  },
  {
   "cell_type": "code",
   "execution_count": 15,
   "id": "a02120de",
   "metadata": {},
   "outputs": [
    {
     "name": "stdout",
     "output_type": "stream",
     "text": [
      "trainable params: 812,544 || all params: 125,253,888 || trainable%: 0.6487175871139426\n"
     ]
    }
   ],
   "source": [
    "lora_model.print_trainable_parameters()"
   ]
  },
  {
   "cell_type": "code",
   "execution_count": 17,
   "id": "b323b4bf",
   "metadata": {},
   "outputs": [],
   "source": [
    "#create a training dataset for PEFT model\n",
    "new_dataset = full_dataset.map(lambda examples: tokenizer(examples[\"text\"], padding=True, truncation=True))"
   ]
  },
  {
   "cell_type": "code",
   "execution_count": 18,
   "id": "36284730",
   "metadata": {},
   "outputs": [],
   "source": [
    "new_dataset = new_dataset.rename_column(\"label\", \"labels\")\n",
    "new_dataset.set_format(\"torch\", columns=[\"input_ids\", \"attention_mask\", \"labels\"])"
   ]
  },
  {
   "cell_type": "code",
   "execution_count": 19,
   "id": "e670fa70",
   "metadata": {},
   "outputs": [],
   "source": [
    "#unfreeze model\n",
    "for param in lora_model.parameters():\n",
    "    param.requires_grad = True"
   ]
  },
  {
   "cell_type": "code",
   "execution_count": 20,
   "id": "881786bb",
   "metadata": {},
   "outputs": [],
   "source": [
    "import numpy as np\n",
    "import torch.nn as nn\n",
    "from transformers import TrainingArguments, Trainer, DataCollatorWithPadding"
   ]
  },
  {
   "cell_type": "code",
   "execution_count": 21,
   "id": "539ea83f",
   "metadata": {},
   "outputs": [],
   "source": [
    "#this one gets no training or validation loss\n",
    "#def compute_metrics(eval_pred):\n",
    "#    predictions = eval_pred.predictions\n",
    "#    labels = eval_pred.label_ids\n",
    "\n",
    "    # Convert predictions and labels to the appropriate data types\n",
    "#    predictions = torch.from_numpy(predictions).float()\n",
    "#    labels = torch.from_numpy(labels).long()\n",
    "\n",
    "#    loss = nn.CrossEntropyLoss()\n",
    "#    loss_val = loss(predictions, labels)\n",
    "#    accuracy = (predictions.argmax(dim=1) == labels).float().mean()\n",
    "\n",
    "#    return {\"eval_loss\": loss_val.item(), \"accuracy\": accuracy.item()}"
   ]
  },
  {
   "cell_type": "code",
   "execution_count": 30,
   "id": "840acc22",
   "metadata": {},
   "outputs": [],
   "source": [
    "#no logs and returns eval_loss error\n",
    "#def compute_metrics(eval_pred):\n",
    "#    predictions = eval_pred.predictions\n",
    "#    labels = eval_pred.label_ids\n",
    "\n",
    "    #Convert predictions and labels to the appropriate data types\n",
    "#    predictions = torch.from_numpy(predictions).float()\n",
    "#    labels = torch.from_numpy(labels).long()\n",
    "\n",
    "#    loss = nn.CrossEntropyLoss()\n",
    "#    loss_val = loss(predictions, labels)\n",
    "#    accuracy = (predictions.argmax(dim=1) == labels).float().mean()\n",
    "\n",
    "#    return {\"eval_loss\": loss_val, \"accuracy\": accuracy}\n"
   ]
  },
  {
   "cell_type": "code",
   "execution_count": 33,
   "id": "c2d242e1",
   "metadata": {},
   "outputs": [],
   "source": [
    "#error and no log \n",
    "#def compute_metrics(eval_pred):\n",
    "#    predictions = torch.from_numpy(eval_pred.predictions)  # Convert predictions to tensor\n",
    "#    labels = torch.from_numpy(eval_pred.label_ids).float()  # Convert labels to tensor and cast to float\n",
    "#    loss = nn.CrossEntropyLoss()(predictions, labels)  # Calculate the evaluation loss\n",
    "#    accuracy = (predictions == labels).float().mean()  # Calculate the accuracy\n",
    "#    return {\"eval_loss\": loss, \"accuracy\": accuracy}"
   ]
  },
  {
   "cell_type": "code",
   "execution_count": 31,
   "id": "ce47ae43",
   "metadata": {},
   "outputs": [],
   "source": [
    "#def compute_metrics(eval_pred):\n",
    "#    predictions, labels = eval_pred\n",
    "#    predictions = np.argmax(predictions, axis=1)\n",
    "#    predictions = torch.from_numpy(predictions)  # Convert predictions to tensor\n",
    "#    labels = torch.from_numpy(labels).float()  # Convert labels to tensor\n",
    "#    loss = nn.CrossEntropyLoss()(predictions, labels)  # Calculate the evaluation loss\n",
    "#    accuracy = (predictions == labels).float().mean()  # Calculate the accuracy\n",
    "#    return {\"eval_loss\": loss, \"accuracy\": accuracy}\n"
   ]
  },
  {
   "cell_type": "code",
   "execution_count": 34,
   "id": "645a4ca5",
   "metadata": {},
   "outputs": [],
   "source": [
    "def compute_metrics(eval_pred):\n",
    "    predictions, labels = eval_pred\n",
    "    predictions = np.argmax(predictions, axis=1)\n",
    "    predictions = torch.from_numpy(predictions)  # Convert predictions to tensor\n",
    "    labels = torch.from_numpy(labels).float()  # Convert labels to tensor\n",
    "    loss = nn.CrossEntropyLoss()(predictions, labels)  # Calculate the evaluation loss\n",
    "    accuracy = (predictions == labels).float().mean()  # Calculate the accuracy\n",
    "    return {\"eval_loss\": loss.item(), \"accuracy\": accuracy.item()}"
   ]
  },
  {
   "cell_type": "code",
   "execution_count": null,
   "id": "4ec5d617",
   "metadata": {},
   "outputs": [],
   "source": [
    "training_args = TrainingArguments(\n",
    "    output_dir='C:/Users/felix/Downloads',\n",
    "    evaluation_strategy='epoch',\n",
    "    save_strategy='epoch',\n",
    "    learning_rate=.2,\n",
    "    per_device_train_batch_size=18,\n",
    "    per_device_eval_batch_size=18,\n",
    "    num_train_epochs=1,\n",
    "    load_best_model_at_end=True,\n",
    "    weight_decay=0.1,\n",
    "    remove_unused_columns=False,\n",
    "    #label_names=\"labels\"\n",
    ")"
   ]
  },
  {
   "cell_type": "code",
   "execution_count": 40,
   "id": "18bd8082",
   "metadata": {},
   "outputs": [],
   "source": [
    "import random"
   ]
  },
  {
   "cell_type": "code",
   "execution_count": 41,
   "id": "48c3600a",
   "metadata": {},
   "outputs": [],
   "source": [
    "# reduce size of training data to speed up\n",
    "n_samples = 500\n",
    "train_dataset = new_dataset['train']\n",
    "\n",
    "# Get the number of samples in the dataset\n",
    "num_samples = len(train_dataset)\n",
    "\n",
    "# Generate a list of random indices without replacement\n",
    "random_indices = random.sample(range(num_samples), n_samples)\n",
    "\n",
    "# Select the samples corresponding to the random indices\n",
    "random_train_samples = train_dataset.select(indices=random_indices)"
   ]
  },
  {
   "cell_type": "code",
   "execution_count": 43,
   "id": "15ae453a",
   "metadata": {},
   "outputs": [],
   "source": [
    "def compute_metrics(eval_pred):\n",
    "    predictions, labels = eval_pred\n",
    "    predictions = torch.from_numpy(predictions)  # Convert predictions to tensor\n",
    "    labels = torch.from_numpy(labels).long()  # Convert labels to tensor\n",
    "    loss = nn.CrossEntropyLoss()(predictions, labels)  # Calculate the evaluation loss\n",
    "    accuracy = (torch.argmax(predictions, axis=1) == labels).float().mean()  # Calculate the accuracy\n",
    "\n",
    "    # Print the metrics dictionary for debugging\n",
    "    metrics = {\"eval_loss\": loss.item(), \"accuracy\": accuracy.item()}\n",
    "    print(\"Metrics:\", metrics)\n",
    "\n",
    "    return metrics"
   ]
  },
  {
   "cell_type": "code",
   "execution_count": 45,
   "id": "6b2ec776",
   "metadata": {
    "scrolled": true
   },
   "outputs": [
    {
     "data": {
      "text/html": [
       "\n",
       "    <div>\n",
       "      \n",
       "      <progress value='29' max='28' style='width:300px; height:20px; vertical-align: middle;'></progress>\n",
       "      [28/28 03:58, Epoch 1/1]\n",
       "    </div>\n",
       "    <table border=\"1\" class=\"dataframe\">\n",
       "  <thead>\n",
       " <tr style=\"text-align: left;\">\n",
       "      <th>Epoch</th>\n",
       "      <th>Training Loss</th>\n",
       "      <th>Validation Loss</th>\n",
       "    </tr>\n",
       "  </thead>\n",
       "  <tbody>\n",
       "    <tr>\n",
       "      <td>1</td>\n",
       "      <td>No log</td>\n",
       "      <td>No log</td>\n",
       "    </tr>\n",
       "  </tbody>\n",
       "</table><p>"
      ],
      "text/plain": [
       "<IPython.core.display.HTML object>"
      ]
     },
     "metadata": {},
     "output_type": "display_data"
    },
    {
     "ename": "KeyError",
     "evalue": "'eval_loss'",
     "output_type": "error",
     "traceback": [
      "\u001b[1;31m---------------------------------------------------------------------------\u001b[0m",
      "\u001b[1;31mKeyError\u001b[0m                                  Traceback (most recent call last)",
      "Cell \u001b[1;32mIn[45], line 10\u001b[0m\n\u001b[0;32m      1\u001b[0m trainer \u001b[38;5;241m=\u001b[39m Trainer(\n\u001b[0;32m      2\u001b[0m     model\u001b[38;5;241m=\u001b[39mlora_model,\n\u001b[0;32m      3\u001b[0m     args \u001b[38;5;241m=\u001b[39m training_args,\n\u001b[1;32m   (...)\u001b[0m\n\u001b[0;32m      8\u001b[0m     compute_metrics \u001b[38;5;241m=\u001b[39m compute_metrics\n\u001b[0;32m      9\u001b[0m )\n\u001b[1;32m---> 10\u001b[0m trainer\u001b[38;5;241m.\u001b[39mtrain()\n",
      "File \u001b[1;32m~\\anaconda3\\Lib\\site-packages\\transformers\\trainer.py:1555\u001b[0m, in \u001b[0;36mTrainer.train\u001b[1;34m(self, resume_from_checkpoint, trial, ignore_keys_for_eval, **kwargs)\u001b[0m\n\u001b[0;32m   1553\u001b[0m         hf_hub_utils\u001b[38;5;241m.\u001b[39menable_progress_bars()\n\u001b[0;32m   1554\u001b[0m \u001b[38;5;28;01melse\u001b[39;00m:\n\u001b[1;32m-> 1555\u001b[0m     \u001b[38;5;28;01mreturn\u001b[39;00m inner_training_loop(\n\u001b[0;32m   1556\u001b[0m         args\u001b[38;5;241m=\u001b[39margs,\n\u001b[0;32m   1557\u001b[0m         resume_from_checkpoint\u001b[38;5;241m=\u001b[39mresume_from_checkpoint,\n\u001b[0;32m   1558\u001b[0m         trial\u001b[38;5;241m=\u001b[39mtrial,\n\u001b[0;32m   1559\u001b[0m         ignore_keys_for_eval\u001b[38;5;241m=\u001b[39mignore_keys_for_eval,\n\u001b[0;32m   1560\u001b[0m     )\n",
      "File \u001b[1;32m~\\anaconda3\\Lib\\site-packages\\transformers\\trainer.py:1944\u001b[0m, in \u001b[0;36mTrainer._inner_training_loop\u001b[1;34m(self, batch_size, args, resume_from_checkpoint, trial, ignore_keys_for_eval)\u001b[0m\n\u001b[0;32m   1941\u001b[0m     \u001b[38;5;28mself\u001b[39m\u001b[38;5;241m.\u001b[39mcontrol\u001b[38;5;241m.\u001b[39mshould_training_stop \u001b[38;5;241m=\u001b[39m \u001b[38;5;28;01mTrue\u001b[39;00m\n\u001b[0;32m   1943\u001b[0m \u001b[38;5;28mself\u001b[39m\u001b[38;5;241m.\u001b[39mcontrol \u001b[38;5;241m=\u001b[39m \u001b[38;5;28mself\u001b[39m\u001b[38;5;241m.\u001b[39mcallback_handler\u001b[38;5;241m.\u001b[39mon_epoch_end(args, \u001b[38;5;28mself\u001b[39m\u001b[38;5;241m.\u001b[39mstate, \u001b[38;5;28mself\u001b[39m\u001b[38;5;241m.\u001b[39mcontrol)\n\u001b[1;32m-> 1944\u001b[0m \u001b[38;5;28mself\u001b[39m\u001b[38;5;241m.\u001b[39m_maybe_log_save_evaluate(tr_loss, model, trial, epoch, ignore_keys_for_eval)\n\u001b[0;32m   1946\u001b[0m \u001b[38;5;28;01mif\u001b[39;00m DebugOption\u001b[38;5;241m.\u001b[39mTPU_METRICS_DEBUG \u001b[38;5;129;01min\u001b[39;00m \u001b[38;5;28mself\u001b[39m\u001b[38;5;241m.\u001b[39margs\u001b[38;5;241m.\u001b[39mdebug:\n\u001b[0;32m   1947\u001b[0m     \u001b[38;5;28;01mif\u001b[39;00m is_torch_tpu_available():\n\u001b[0;32m   1948\u001b[0m         \u001b[38;5;66;03m# tpu-comment: Logging debug metrics for PyTorch/XLA (compile, execute times, ops, etc.)\u001b[39;00m\n",
      "File \u001b[1;32m~\\anaconda3\\Lib\\site-packages\\transformers\\trainer.py:2267\u001b[0m, in \u001b[0;36mTrainer._maybe_log_save_evaluate\u001b[1;34m(self, tr_loss, model, trial, epoch, ignore_keys_for_eval)\u001b[0m\n\u001b[0;32m   2264\u001b[0m         \u001b[38;5;28mself\u001b[39m\u001b[38;5;241m.\u001b[39mlr_scheduler\u001b[38;5;241m.\u001b[39mstep(metrics[metric_to_check])\n\u001b[0;32m   2266\u001b[0m \u001b[38;5;28;01mif\u001b[39;00m \u001b[38;5;28mself\u001b[39m\u001b[38;5;241m.\u001b[39mcontrol\u001b[38;5;241m.\u001b[39mshould_save:\n\u001b[1;32m-> 2267\u001b[0m     \u001b[38;5;28mself\u001b[39m\u001b[38;5;241m.\u001b[39m_save_checkpoint(model, trial, metrics\u001b[38;5;241m=\u001b[39mmetrics)\n\u001b[0;32m   2268\u001b[0m     \u001b[38;5;28mself\u001b[39m\u001b[38;5;241m.\u001b[39mcontrol \u001b[38;5;241m=\u001b[39m \u001b[38;5;28mself\u001b[39m\u001b[38;5;241m.\u001b[39mcallback_handler\u001b[38;5;241m.\u001b[39mon_save(\u001b[38;5;28mself\u001b[39m\u001b[38;5;241m.\u001b[39margs, \u001b[38;5;28mself\u001b[39m\u001b[38;5;241m.\u001b[39mstate, \u001b[38;5;28mself\u001b[39m\u001b[38;5;241m.\u001b[39mcontrol)\n",
      "File \u001b[1;32m~\\anaconda3\\Lib\\site-packages\\transformers\\trainer.py:2383\u001b[0m, in \u001b[0;36mTrainer._save_checkpoint\u001b[1;34m(self, model, trial, metrics)\u001b[0m\n\u001b[0;32m   2381\u001b[0m \u001b[38;5;28;01mif\u001b[39;00m \u001b[38;5;129;01mnot\u001b[39;00m metric_to_check\u001b[38;5;241m.\u001b[39mstartswith(\u001b[38;5;124m\"\u001b[39m\u001b[38;5;124meval_\u001b[39m\u001b[38;5;124m\"\u001b[39m):\n\u001b[0;32m   2382\u001b[0m     metric_to_check \u001b[38;5;241m=\u001b[39m \u001b[38;5;124mf\u001b[39m\u001b[38;5;124m\"\u001b[39m\u001b[38;5;124meval_\u001b[39m\u001b[38;5;132;01m{\u001b[39;00mmetric_to_check\u001b[38;5;132;01m}\u001b[39;00m\u001b[38;5;124m\"\u001b[39m\n\u001b[1;32m-> 2383\u001b[0m metric_value \u001b[38;5;241m=\u001b[39m metrics[metric_to_check]\n\u001b[0;32m   2385\u001b[0m operator \u001b[38;5;241m=\u001b[39m np\u001b[38;5;241m.\u001b[39mgreater \u001b[38;5;28;01mif\u001b[39;00m \u001b[38;5;28mself\u001b[39m\u001b[38;5;241m.\u001b[39margs\u001b[38;5;241m.\u001b[39mgreater_is_better \u001b[38;5;28;01melse\u001b[39;00m np\u001b[38;5;241m.\u001b[39mless\n\u001b[0;32m   2386\u001b[0m \u001b[38;5;28;01mif\u001b[39;00m (\n\u001b[0;32m   2387\u001b[0m     \u001b[38;5;28mself\u001b[39m\u001b[38;5;241m.\u001b[39mstate\u001b[38;5;241m.\u001b[39mbest_metric \u001b[38;5;129;01mis\u001b[39;00m \u001b[38;5;28;01mNone\u001b[39;00m\n\u001b[0;32m   2388\u001b[0m     \u001b[38;5;129;01mor\u001b[39;00m \u001b[38;5;28mself\u001b[39m\u001b[38;5;241m.\u001b[39mstate\u001b[38;5;241m.\u001b[39mbest_model_checkpoint \u001b[38;5;129;01mis\u001b[39;00m \u001b[38;5;28;01mNone\u001b[39;00m\n\u001b[0;32m   2389\u001b[0m     \u001b[38;5;129;01mor\u001b[39;00m operator(metric_value, \u001b[38;5;28mself\u001b[39m\u001b[38;5;241m.\u001b[39mstate\u001b[38;5;241m.\u001b[39mbest_metric)\n\u001b[0;32m   2390\u001b[0m ):\n",
      "\u001b[1;31mKeyError\u001b[0m: 'eval_loss'"
     ]
    }
   ],
   "source": [
    "trainer = Trainer(\n",
    "    model=lora_model,\n",
    "    args = training_args,\n",
    "    train_dataset = random_train_samples,\n",
    "    eval_dataset = new_dataset['test'],\n",
    "    tokenizer=tokenizer,\n",
    "    data_collator = DataCollatorWithPadding(tokenizer=tokenizer),\n",
    "    compute_metrics = compute_metrics\n",
    ")\n",
    "trainer.train()"
   ]
  },
  {
   "cell_type": "code",
   "execution_count": null,
   "id": "fdb1b69a",
   "metadata": {},
   "outputs": [],
   "source": []
  }
 ],
 "metadata": {
  "kernelspec": {
   "display_name": "Python 3 (ipykernel)",
   "language": "python",
   "name": "python3"
  },
  "language_info": {
   "codemirror_mode": {
    "name": "ipython",
    "version": 3
   },
   "file_extension": ".py",
   "mimetype": "text/x-python",
   "name": "python",
   "nbconvert_exporter": "python",
   "pygments_lexer": "ipython3",
   "version": "3.11.5"
  }
 },
 "nbformat": 4,
 "nbformat_minor": 5
}
