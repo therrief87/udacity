{
 "cells": [
  {
   "cell_type": "code",
   "execution_count": 1,
   "id": "5fe951b7",
   "metadata": {},
   "outputs": [],
   "source": [
    "# package imports\n",
    "import torch\n",
    "import huggingface\n",
    "from transformers import (AutoModelForSequenceClassification, AutoTokenizer, GPT2Model, GPT2Tokenizer, AutoModelForCausalLM,GPT2LMHeadModel, GPT2Config)\n",
    "from datasets import load_dataset"
   ]
  },
  {
   "cell_type": "code",
   "execution_count": 2,
   "id": "0be4d5ad",
   "metadata": {},
   "outputs": [],
   "source": [
    "#import validation dataset for evaluation. \n",
    "dataset = load_dataset('rotten_tomatoes',split='validation') #just for evaluating"
   ]
  },
  {
   "cell_type": "code",
   "execution_count": 3,
   "id": "fe06abb2",
   "metadata": {},
   "outputs": [
    {
     "data": {
      "text/plain": [
       "Dataset({\n",
       "    features: ['text', 'label'],\n",
       "    num_rows: 1066\n",
       "})"
      ]
     },
     "execution_count": 3,
     "metadata": {},
     "output_type": "execute_result"
    }
   ],
   "source": [
    "#shape of dataset\n",
    "dataset"
   ]
  },
  {
   "cell_type": "code",
   "execution_count": 4,
   "id": "f0bc5669",
   "metadata": {},
   "outputs": [
    {
     "name": "stdout",
     "output_type": "stream",
     "text": [
      "C:\\Users\\felix\\Downloads\n"
     ]
    }
   ],
   "source": [
    "import os\n",
    "\n",
    "# get the current working directory\n",
    "current_working_directory = os.getcwd()\n",
    "\n",
    "# print output to the console\n",
    "print(current_working_directory)"
   ]
  },
  {
   "cell_type": "code",
   "execution_count": 5,
   "id": "3d9732a5",
   "metadata": {},
   "outputs": [
    {
     "name": "stderr",
     "output_type": "stream",
     "text": [
      "Some weights of GPT2ForSequenceClassification were not initialized from the model checkpoint at gpt2 and are newly initialized: ['score.weight']\n",
      "You should probably TRAIN this model on a down-stream task to be able to use it for predictions and inference.\n"
     ]
    }
   ],
   "source": [
    "#instantiate model\n",
    "\n",
    "#create tokenizer with padding\n",
    "tokenizer = GPT2Tokenizer.from_pretrained(\"gpt2\")\n",
    "pad_token = \"<PAD>\"\n",
    "tokenizer.pad_token = pad_token\n",
    "#tokenizer.set_padding(tokenizer.pad_token, pad_to_multiple_of=8)\n",
    "config = GPT2Config.from_pretrained(\"gpt2\", pad_token_id=tokenizer.pad_token_id)\n",
    "model = AutoModelForSequenceClassification.from_pretrained(\"gpt2\",config=config)\n",
    "#config = GPT2Config.from_pretrained(\"gpt2\", pad_token_id=tokenizer.pad_token_id)\n",
    "\n",
    "# Instantiate the model with the updated configuration\n",
    "#model = GPT2ForSequenceClassification.from_pretrained(\"gpt2\", config=config)"
   ]
  },
  {
   "cell_type": "code",
   "execution_count": 6,
   "id": "a119ed27",
   "metadata": {},
   "outputs": [],
   "source": [
    "#tokenize function\n",
    "def tokenize_function(examples):\n",
    "    return tokenizer(examples[\"text\"], padding=\"max_length\", truncation=True)"
   ]
  },
  {
   "cell_type": "code",
   "execution_count": 7,
   "id": "b2038b2b",
   "metadata": {},
   "outputs": [],
   "source": [
    "#create a tokenized dataset for evaluation\n",
    "tokenized_datasets = dataset.map(tokenize_function, batched=True)"
   ]
  },
  {
   "cell_type": "code",
   "execution_count": 8,
   "id": "97896cfa",
   "metadata": {},
   "outputs": [],
   "source": [
    "#creating input for model\n",
    "inputs = tokenizer.encode_plus(\n",
    "    tokenized_datasets['text'],\n",
    "    add_special_tokens=True,\n",
    "    max_length=128,  # Maximum sequence length\n",
    "    padding=\"max_length\",\n",
    "    truncation=True,\n",
    "    return_tensors=\"pt\"  # Return PyTorch tensors\n",
    ")"
   ]
  },
  {
   "cell_type": "code",
   "execution_count": 9,
   "id": "b5f9edf5",
   "metadata": {},
   "outputs": [
    {
     "name": "stdout",
     "output_type": "stream",
     "text": [
      "Sentiment: Negative (99.59%)\n"
     ]
    }
   ],
   "source": [
    "# Make prediction\n",
    "with torch.no_grad():\n",
    "    outputs = model(**inputs).logits\n",
    "    probabilities = torch.nn.functional.softmax(outputs, dim=1)\n",
    "    predicted_class = torch.argmax(probabilities)\n",
    "\n",
    "# Display sentiment result\n",
    "if predicted_class == 1:\n",
    "    print(f\"Sentiment: Positive ({probabilities[0][1] * 100:.2f}%)\")\n",
    "else:\n",
    "    print(f\"Sentiment: Negative ({probabilities[0][0] * 100:.2f}%)\")"
   ]
  },
  {
   "cell_type": "code",
   "execution_count": 10,
   "id": "ea862d72",
   "metadata": {},
   "outputs": [],
   "source": [
    "#dataset labels\n",
    "labels = dataset[\"label\"]"
   ]
  },
  {
   "cell_type": "code",
   "execution_count": 11,
   "id": "30fdf462",
   "metadata": {},
   "outputs": [],
   "source": [
    "#load full dataset for testing\n",
    "full_dataset = load_dataset('rotten_tomatoes')"
   ]
  },
  {
   "cell_type": "code",
   "execution_count": 12,
   "id": "0d7c3822",
   "metadata": {},
   "outputs": [],
   "source": [
    "# Create a DataLoader to efficiently process the data\n",
    "data_loader = torch.utils.data.DataLoader(list(zip(inputs[\"input_ids\"],inputs[\"attention_mask\"], labels)),\n",
    "batch_size=16, shuffle=False)"
   ]
  },
  {
   "cell_type": "markdown",
   "id": "5712fb4e",
   "metadata": {},
   "source": [
    "#evaluate model performance\n",
    "from sklearn.metrics import accuracy_score\n",
    "\n",
    "tokenized_dataset = full_dataset.map(lambda examples: tokenizer(examples[\"text\"], padding=True, truncation=True))\n",
    "                                     #, batched=True)\n",
    "\n",
    "# Prepare the data for evaluation\n",
    "eval_dataset = tokenized_dataset[\"test\"].remove_columns([\"text\"]).rename_column(\"label\", \"labels\")\n",
    "eval_dataset.set_format(\"torch\", columns=[\"input_ids\", \"attention_mask\", \"labels\"])\n",
    "\n",
    "device = torch.device(\"cuda\" if torch.cuda.is_available() else \"cpu\")\n",
    "model = model.to(device)\n",
    "\n",
    "model.eval()\n",
    "predictions = []\n",
    "for batch in torch.utils.data.DataLoader(eval_dataset):\n",
    "    with torch.no_grad():\n",
    "        inputs = {k: v.to(device) for k, v in batch.items()}\n",
    "        outputs = model(**inputs)\n",
    "        logits = outputs.logits\n",
    "        predicted_labels = torch.argmax(logits, dim=1)\n",
    "        predictions.extend(predicted_labels.cpu().numpy())\n",
    "\n",
    "true_labels = eval_dataset[\"labels\"].numpy()\n",
    "accuracy = accuracy_score(true_labels, predictions)\n",
    "print(\"The pretrained model accuracy is\", round(accuracy*100,2),\"%\")"
   ]
  },
  {
   "cell_type": "code",
   "execution_count": 13,
   "id": "6dff021e",
   "metadata": {},
   "outputs": [],
   "source": [
    "from peft import LoraConfig\n",
    "# Create a PEFT Config for LoRA\n",
    "from peft import LoraConfig, TaskType\n",
    "config = LoraConfig(\n",
    "r=8, # Rank\n",
    "lora_alpha=32,\n",
    "target_modules=['c_attn', 'c_proj'],\n",
    "lora_dropout=0.1,\n",
    "bias=\"none\",\n",
    "task_type=TaskType.SEQ_CLS\n",
    ")"
   ]
  },
  {
   "cell_type": "code",
   "execution_count": 14,
   "id": "99971e8f",
   "metadata": {},
   "outputs": [
    {
     "name": "stderr",
     "output_type": "stream",
     "text": [
      "C:\\Users\\felix\\anaconda3\\Lib\\site-packages\\peft\\tuners\\lora\\layer.py:711: UserWarning: fan_in_fan_out is set to False but the target module is `Conv1D`. Setting fan_in_fan_out to True.\n",
      "  warnings.warn(\n"
     ]
    }
   ],
   "source": [
    "from peft import get_peft_model\n",
    "lora_model = get_peft_model(model, config)"
   ]
  },
  {
   "cell_type": "code",
   "execution_count": 15,
   "id": "a02120de",
   "metadata": {},
   "outputs": [
    {
     "name": "stdout",
     "output_type": "stream",
     "text": [
      "trainable params: 812,544 || all params: 125,253,888 || trainable%: 0.6487175871139426\n"
     ]
    }
   ],
   "source": [
    "lora_model.print_trainable_parameters()"
   ]
  },
  {
   "cell_type": "code",
   "execution_count": 16,
   "id": "b323b4bf",
   "metadata": {},
   "outputs": [],
   "source": [
    "#create a training dataset for PEFT model\n",
    "new_dataset = full_dataset.map(lambda examples: tokenizer(examples[\"text\"], padding=True, truncation=True))"
   ]
  },
  {
   "cell_type": "code",
   "execution_count": 17,
   "id": "36284730",
   "metadata": {},
   "outputs": [],
   "source": [
    "new_dataset = new_dataset.rename_column(\"label\", \"labels\")\n",
    "new_dataset.set_format(\"torch\", columns=[\"input_ids\", \"attention_mask\", \"labels\"])"
   ]
  },
  {
   "cell_type": "code",
   "execution_count": 18,
   "id": "e670fa70",
   "metadata": {},
   "outputs": [],
   "source": [
    "#unfreeze model\n",
    "for param in lora_model.parameters():\n",
    "    param.requires_grad = True"
   ]
  },
  {
   "cell_type": "code",
   "execution_count": 19,
   "id": "881786bb",
   "metadata": {},
   "outputs": [],
   "source": [
    "import numpy as np\n",
    "import torch.nn as nn\n",
    "from transformers import TrainingArguments, Trainer, DataCollatorWithPadding"
   ]
  },
  {
   "cell_type": "code",
   "execution_count": 20,
   "id": "7f46eed6",
   "metadata": {},
   "outputs": [],
   "source": [
    "def compute_metrics(eval_pred):\n",
    "    predictions, labels = eval_pred\n",
    "    predictions = np.argmax(predictions, axis=1)\n",
    "    return{\"accuracy\": (predictions == labels).mean()}"
   ]
  },
  {
   "cell_type": "code",
   "execution_count": 21,
   "id": "539ea83f",
   "metadata": {},
   "outputs": [],
   "source": [
    "#this one gets no training or validation loss\n",
    "#def compute_metrics(eval_pred):\n",
    "#    predictions = eval_pred.predictions\n",
    "#    labels = eval_pred.label_ids\n",
    "\n",
    "    # Convert predictions and labels to the appropriate data types\n",
    "#    predictions = torch.from_numpy(predictions).float()\n",
    "#    labels = torch.from_numpy(labels).long()\n",
    "\n",
    "#    loss = nn.CrossEntropyLoss()\n",
    "#    loss_val = loss(predictions, labels)\n",
    "#    accuracy = (predictions.argmax(dim=1) == labels).float().mean()\n",
    "\n",
    "#    return {\"eval_loss\": loss_val.item(), \"accuracy\": accuracy.item()}"
   ]
  },
  {
   "cell_type": "code",
   "execution_count": 22,
   "id": "840acc22",
   "metadata": {},
   "outputs": [],
   "source": [
    "#no logs and returns eval_loss error\n",
    "#def compute_metrics(eval_pred):\n",
    "#    predictions = eval_pred.predictions\n",
    "#    labels = eval_pred.label_ids\n",
    "\n",
    "    #Convert predictions and labels to the appropriate data types\n",
    "#    predictions = torch.from_numpy(predictions).float()\n",
    "#    labels = torch.from_numpy(labels).long()\n",
    "\n",
    "#    loss = nn.CrossEntropyLoss()\n",
    "#    loss_val = loss(predictions, labels)\n",
    "#    accuracy = (predictions.argmax(dim=1) == labels).float().mean()\n",
    "\n",
    "#    return {\"eval_loss\": loss_val, \"accuracy\": accuracy}\n"
   ]
  },
  {
   "cell_type": "code",
   "execution_count": 23,
   "id": "c2d242e1",
   "metadata": {},
   "outputs": [],
   "source": [
    "#error and no log \n",
    "#def compute_metrics(eval_pred):\n",
    "#    predictions = torch.from_numpy(eval_pred.predictions)  # Convert predictions to tensor\n",
    "#    labels = torch.from_numpy(eval_pred.label_ids).float()  # Convert labels to tensor and cast to float\n",
    "#    loss = nn.CrossEntropyLoss()(predictions, labels)  # Calculate the evaluation loss\n",
    "#    accuracy = (predictions == labels).float().mean()  # Calculate the accuracy\n",
    "#    return {\"eval_loss\": loss, \"accuracy\": accuracy}"
   ]
  },
  {
   "cell_type": "code",
   "execution_count": 24,
   "id": "ce47ae43",
   "metadata": {},
   "outputs": [],
   "source": [
    "#def compute_metrics(eval_pred):\n",
    "#    predictions, labels = eval_pred\n",
    "#    predictions = np.argmax(predictions, axis=1)\n",
    "#    predictions = torch.from_numpy(predictions)  # Convert predictions to tensor\n",
    "#    labels = torch.from_numpy(labels).float()  # Convert labels to tensor\n",
    "#    loss = nn.CrossEntropyLoss()(predictions, labels)  # Calculate the evaluation loss\n",
    "#    accuracy = (predictions == labels).float().mean()  # Calculate the accuracy\n",
    "#    return {\"eval_loss\": loss, \"accuracy\": accuracy}\n"
   ]
  },
  {
   "cell_type": "code",
   "execution_count": 25,
   "id": "645a4ca5",
   "metadata": {},
   "outputs": [],
   "source": [
    "def compute_metrics(eval_pred):\n",
    "    predictions, labels = eval_pred\n",
    "    predictions = np.argmax(predictions, axis=1)\n",
    "    predictions = torch.from_numpy(predictions)  # Convert predictions to tensor\n",
    "    labels = torch.from_numpy(labels).float()  # Convert labels to tensor\n",
    "    loss = nn.CrossEntropyLoss()(predictions, labels)  # Calculate the evaluation loss\n",
    "    accuracy = (predictions == labels).float().mean()  # Calculate the accuracy\n",
    "    return {\"eval_loss\": loss.item(), \"accuracy\": accuracy.item()}"
   ]
  },
  {
   "cell_type": "code",
   "execution_count": 26,
   "id": "4ec5d617",
   "metadata": {},
   "outputs": [],
   "source": [
    "training_args = TrainingArguments(\n",
    "    output_dir='C:/Users/felix/Downloads',\n",
    "    evaluation_strategy='epoch',\n",
    "    save_strategy='epoch',\n",
    "    learning_rate=2e-3,\n",
    "    per_device_train_batch_size=12,\n",
    "    per_device_eval_batch_size=12,\n",
    "    num_train_epochs=5,\n",
    "    load_best_model_at_end=True,\n",
    "    #weight_decay=0.1,\n",
    "    remove_unused_columns=False,\n",
    "    #label_names=\"labels\"\n",
    ")"
   ]
  },
  {
   "cell_type": "code",
   "execution_count": 27,
   "id": "18bd8082",
   "metadata": {},
   "outputs": [],
   "source": [
    "import random"
   ]
  },
  {
   "cell_type": "code",
   "execution_count": 28,
   "id": "48c3600a",
   "metadata": {},
   "outputs": [],
   "source": [
    "# reduce size of training data to speed up\n",
    "n_samples =800\n",
    "train_dataset = new_dataset['train']\n",
    "\n",
    "# Get the number of samples in the dataset\n",
    "num_samples = len(train_dataset)\n",
    "\n",
    "# Generate a list of random indices without replacement\n",
    "random_indices = random.sample(range(num_samples), n_samples)\n",
    "\n",
    "# Select the samples corresponding to the random indices\n",
    "random_train_samples = train_dataset.select(indices=random_indices)"
   ]
  },
  {
   "cell_type": "code",
   "execution_count": 29,
   "id": "15ae453a",
   "metadata": {},
   "outputs": [],
   "source": [
    "def compute_metrics(eval_pred):\n",
    "    predictions, labels = eval_pred\n",
    "    predictions = torch.from_numpy(predictions)  # Convert predictions to tensor\n",
    "    labels = torch.from_numpy(labels).long()  # Convert labels to tensor\n",
    "    loss = nn.CrossEntropyLoss()(predictions, labels)  # Calculate the evaluation loss\n",
    "    accuracy = (torch.argmax(predictions, axis=1) == labels).float().mean()  # Calculate the accuracy\n",
    "\n",
    "    # Print the metrics dictionary for debugging\n",
    "    metrics = {\"eval_loss\": loss.item(), \"accuracy\": accuracy.item()}\n",
    "    print(\"Metrics:\", metrics)\n",
    "\n",
    "    return metrics"
   ]
  },
  {
   "cell_type": "code",
   "execution_count": 30,
   "id": "6b2ec776",
   "metadata": {
    "scrolled": true
   },
   "outputs": [
    {
     "data": {
      "text/html": [
       "\n",
       "    <div>\n",
       "      \n",
       "      <progress value='335' max='335' style='width:300px; height:20px; vertical-align: middle;'></progress>\n",
       "      [335/335 35:41, Epoch 5/5]\n",
       "    </div>\n",
       "    <table border=\"1\" class=\"dataframe\">\n",
       "  <thead>\n",
       " <tr style=\"text-align: left;\">\n",
       "      <th>Epoch</th>\n",
       "      <th>Training Loss</th>\n",
       "      <th>Validation Loss</th>\n",
       "      <th>Accuracy</th>\n",
       "    </tr>\n",
       "  </thead>\n",
       "  <tbody>\n",
       "    <tr>\n",
       "      <td>1</td>\n",
       "      <td>No log</td>\n",
       "      <td>0.717404</td>\n",
       "      <td>0.500000</td>\n",
       "    </tr>\n",
       "    <tr>\n",
       "      <td>2</td>\n",
       "      <td>No log</td>\n",
       "      <td>0.692329</td>\n",
       "      <td>0.500938</td>\n",
       "    </tr>\n",
       "    <tr>\n",
       "      <td>3</td>\n",
       "      <td>No log</td>\n",
       "      <td>0.709676</td>\n",
       "      <td>0.509381</td>\n",
       "    </tr>\n",
       "    <tr>\n",
       "      <td>4</td>\n",
       "      <td>No log</td>\n",
       "      <td>0.694390</td>\n",
       "      <td>0.500000</td>\n",
       "    </tr>\n",
       "    <tr>\n",
       "      <td>5</td>\n",
       "      <td>No log</td>\n",
       "      <td>0.693648</td>\n",
       "      <td>0.503752</td>\n",
       "    </tr>\n",
       "  </tbody>\n",
       "</table><p>"
      ],
      "text/plain": [
       "<IPython.core.display.HTML object>"
      ]
     },
     "metadata": {},
     "output_type": "display_data"
    },
    {
     "name": "stdout",
     "output_type": "stream",
     "text": [
      "Metrics: {'eval_loss': 0.7174040675163269, 'accuracy': 0.5}\n",
      "Metrics: {'eval_loss': 0.6923287510871887, 'accuracy': 0.5009380578994751}\n",
      "Metrics: {'eval_loss': 0.709675669670105, 'accuracy': 0.5093808770179749}\n",
      "Metrics: {'eval_loss': 0.6943901777267456, 'accuracy': 0.5}\n",
      "Metrics: {'eval_loss': 0.6936475038528442, 'accuracy': 0.5037523508071899}\n"
     ]
    },
    {
     "data": {
      "text/plain": [
       "TrainOutput(global_step=335, training_loss=0.7597835711578824, metrics={'train_runtime': 2145.5782, 'train_samples_per_second': 1.864, 'train_steps_per_second': 0.156, 'total_flos': 92308962078720.0, 'train_loss': 0.7597835711578824, 'epoch': 5.0})"
      ]
     },
     "execution_count": 30,
     "metadata": {},
     "output_type": "execute_result"
    }
   ],
   "source": [
    "trainer = Trainer(\n",
    "    model=lora_model,\n",
    "    args = training_args,\n",
    "    train_dataset = random_train_samples,\n",
    "    eval_dataset = new_dataset['test'],\n",
    "    tokenizer=tokenizer,\n",
    "    data_collator = DataCollatorWithPadding(tokenizer=tokenizer),\n",
    "    compute_metrics = compute_metrics\n",
    ")\n",
    "trainer.train()"
   ]
  },
  {
   "cell_type": "code",
   "execution_count": 31,
   "id": "fdb1b69a",
   "metadata": {},
   "outputs": [
    {
     "data": {
      "text/html": [
       "\n",
       "    <div>\n",
       "      \n",
       "      <progress value='89' max='89' style='width:300px; height:20px; vertical-align: middle;'></progress>\n",
       "      [89/89 01:39]\n",
       "    </div>\n",
       "    "
      ],
      "text/plain": [
       "<IPython.core.display.HTML object>"
      ]
     },
     "metadata": {},
     "output_type": "display_data"
    },
    {
     "name": "stdout",
     "output_type": "stream",
     "text": [
      "Metrics: {'eval_loss': 0.6937015056610107, 'accuracy': 0.5037523508071899}\n"
     ]
    },
    {
     "data": {
      "text/plain": [
       "{'eval_loss': 0.693701446056366,\n",
       " 'eval_accuracy': 0.5037523508071899,\n",
       " 'eval_runtime': 100.6148,\n",
       " 'eval_samples_per_second': 10.595,\n",
       " 'eval_steps_per_second': 0.885,\n",
       " 'epoch': 5.0}"
      ]
     },
     "execution_count": 31,
     "metadata": {},
     "output_type": "execute_result"
    }
   ],
   "source": [
    "trainer.evaluate()"
   ]
  },
  {
   "cell_type": "code",
   "execution_count": null,
   "id": "a41c85b3",
   "metadata": {},
   "outputs": [],
   "source": []
  }
 ],
 "metadata": {
  "kernelspec": {
   "display_name": "Python 3 (ipykernel)",
   "language": "python",
   "name": "python3"
  },
  "language_info": {
   "codemirror_mode": {
    "name": "ipython",
    "version": 3
   },
   "file_extension": ".py",
   "mimetype": "text/x-python",
   "name": "python",
   "nbconvert_exporter": "python",
   "pygments_lexer": "ipython3",
   "version": "3.11.5"
  }
 },
 "nbformat": 4,
 "nbformat_minor": 5
}
